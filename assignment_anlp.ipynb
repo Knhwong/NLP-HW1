{
 "cells": [
  {
   "cell_type": "code",
   "execution_count": 32,
   "id": "f0c05f2c",
   "metadata": {},
   "outputs": [],
   "source": [
    "import re\n",
    "import sys\n",
    "from random import random\n",
    "from math import log\n",
    "from collections import defaultdict\n",
    "import numpy as np\n",
    "\n",
    "\n",
    "tri_counts=defaultdict(int) #counts of all trigrams in input\n",
    "\n",
    "#We convert set to string for O(1) lookup\n",
    "validCharacters = set(\"1234567890abcdefghijklmnopqrstuvwxyz. \")\n",
    "\n",
    "\n",
    "#Process each line and add start/ending symbols\n",
    "def preprocess_line(line):\n",
    "    valid = \"##\"\n",
    "    #.lower() automatically changes all capitals to lower.\n",
    "    for i in line.lower():\n",
    "        if i in validCharacters:\n",
    "            if i in set(\"1234567890\"):\n",
    "                valid += \"0\"\n",
    "            else:\n",
    "                valid += i\n",
    "    valid+=\"#\"    \n",
    "    return valid"
   ]
  },
  {
   "cell_type": "code",
   "execution_count": 147,
   "id": "23f6a944",
   "metadata": {},
   "outputs": [],
   "source": [
    "#get a template dictionary (+1 smoothing)\n",
    "with open(\"model-br.en\") as f:\n",
    "    for line in f:\n",
    "        tri_counts[line[0:3]]=1\n",
    "\n"
   ]
  },
  {
   "cell_type": "code",
   "execution_count": 148,
   "id": "283392f3",
   "metadata": {},
   "outputs": [],
   "source": [
    "#build english model\n",
    "tri_counts_en=tri_counts.copy()\n",
    "with open(\"training.en\") as f:\n",
    "    for line in f:\n",
    "        line = preprocess_line(line) \n",
    "        for j in range(len(line)-(3)):\n",
    "            trigram = line[j:j+3]\n",
    "            tri_counts_en[trigram] += 1\n",
    "sum_en=sum(tri_counts_en.values())\n",
    "tri_pro_en={k:log(v/sum_en) for k,v in tri_counts_en.items()}"
   ]
  },
  {
   "cell_type": "code",
   "execution_count": 149,
   "id": "0965eb99",
   "metadata": {},
   "outputs": [],
   "source": [
    "#build Spanish model\n",
    "tri_counts_es=tri_counts.copy()\n",
    "with open(\"training.es\") as f:\n",
    "    for line in f:\n",
    "        line = preprocess_line(line) \n",
    "        for j in range(len(line)-(3)):\n",
    "            trigram = line[j:j+3]\n",
    "            tri_counts_es[trigram] += 1\n",
    "sum_es=sum(tri_counts_es.values())\n",
    "tri_pro_es={k:log(v/sum_es) for k,v in tri_counts_es.items()}"
   ]
  },
  {
   "cell_type": "code",
   "execution_count": 150,
   "id": "c55b0fa5",
   "metadata": {},
   "outputs": [],
   "source": [
    "#build Germany model\n",
    "tri_counts_de=tri_counts.copy()\n",
    "with open(\"training.de\") as f:\n",
    "    for line in f:\n",
    "        line = preprocess_line(line) \n",
    "        for j in range(len(line)-(3)):\n",
    "            trigram = line[j:j+3]\n",
    "            tri_counts_de[trigram] += 1\n",
    "sum_de=sum(tri_counts_de.values())\n",
    "tri_pro_de={k:log(v/sum_de) for k,v in tri_counts_de.items()}"
   ]
  },
  {
   "cell_type": "code",
   "execution_count": 151,
   "id": "855bd830",
   "metadata": {},
   "outputs": [],
   "source": [
    "#get test data\n",
    "tri_counts_test=defaultdict(int)\n",
    "with open(\"test\") as f:\n",
    "    for line in f:\n",
    "        line = preprocess_line(line) \n",
    "        for j in range(len(line)-(3)):\n",
    "            trigram = line[j:j+3]\n",
    "            tri_counts_test[trigram] += 1\n",
    "tri_total=sum(tri_counts_test.values())"
   ]
  },
  {
   "cell_type": "code",
   "execution_count": 152,
   "id": "69df44bb",
   "metadata": {},
   "outputs": [],
   "source": [
    "#calculate perplexity\n",
    "entropy_en, entropy_es, entropy_de = 0,0,0\n",
    "for k,v in tri_counts_test.items():\n",
    "    entropy_en+=v*tri_pro_en[k]\n",
    "    entropy_es+=v*tri_pro_es[k]\n",
    "    entropy_de+=v*tri_pro_de[k]\n",
    "    \n",
    "entropy_en/=tri_total\n",
    "entropy_es/=tri_total\n",
    "entropy_de/=tri_total\n",
    "\n",
    "perplexity_en=np.exp(-entropy_en)\n",
    "perplexity_es=np.exp(-entropy_es)\n",
    "perplexity_de=np.exp(-entropy_de)"
   ]
  },
  {
   "cell_type": "code",
   "execution_count": 158,
   "id": "ff90fbc4",
   "metadata": {},
   "outputs": [
    {
     "data": {
      "text/plain": [
       "8781.669464298431"
      ]
     },
     "execution_count": 158,
     "metadata": {},
     "output_type": "execute_result"
    }
   ],
   "source": []
  }
 ],
 "metadata": {
  "kernelspec": {
   "display_name": "Python 3 (ipykernel)",
   "language": "python",
   "name": "python3"
  },
  "language_info": {
   "codemirror_mode": {
    "name": "ipython",
    "version": 3
   },
   "file_extension": ".py",
   "mimetype": "text/x-python",
   "name": "python",
   "nbconvert_exporter": "python",
   "pygments_lexer": "ipython3",
   "version": "3.9.12"
  }
 },
 "nbformat": 4,
 "nbformat_minor": 5
}
