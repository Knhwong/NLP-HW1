{
 "cells": [
  {
   "cell_type": "code",
   "execution_count": 1,
   "metadata": {},
   "outputs": [],
   "source": [
    "from importlib.metadata import distribution\n",
    "import sys\n",
    "from collections import defaultdict\n",
    "import random\n",
    "\n",
    "validCharacters = set(\"1234567890abcdefghijklmnopqrstuvwxyz. \")\n",
    "vocabulary = \" #.0abcdefghijklmnopqrstuvwxyz\"\n",
    "#We convert set to string for O(1) lookup\n",
    "validCharacters = set(\"1234567890abcdefghijklmnopqrstuvwxyz. \")\n",
    "#Process each line and add start/ending symbols\n",
    "def preprocess_line(line):\n",
    "    #Add start-sentence symbol\n",
    "    valid = \"##\"\n",
    "    #Because each line ends with newline symbol, we simply delete them\n",
    "    line=line.replace(\"\\n\",\"\")\n",
    "    #.lower() automatically changes all capitals to lower.\n",
    "    for i in line.lower():\n",
    "        if i in validCharacters:\n",
    "            if i in set(\"1234567890\"):\n",
    "                valid += \"0\"\n",
    "            else:\n",
    "                valid += i\n",
    "    #add end-sentence symbol\n",
    "    valid+=\"#\"   \n",
    "    return valid\n"
   ]
  },
  {
   "cell_type": "code",
   "execution_count": 2,
   "metadata": {},
   "outputs": [],
   "source": [
    "#Add Alpha ESTIMATION as the Easiest\n",
    "#Need to deal with newLine and endLine\n",
    "def modelling(infile, alpha):\n",
    "    tri_counts= defaultdict(int)\n",
    "    bi_counts = defaultdict(int)\n",
    "    model = dict()\n",
    "    with open(infile) as f:\n",
    "        for line in f:\n",
    "            line_ = preprocess_line(line)\n",
    "            \n",
    "            for j in range(len(line_)-2):\n",
    "                trigram = line_[j:j+3]\n",
    "                tri_counts[trigram] += 1\n",
    "                \n",
    "                #Get Bigrams to Find Prob\n",
    "                bigram = line_[j:j+2]\n",
    "                bi_counts[bigram] += 1\n",
    "            \n",
    "            f = len(line_) - 3\n",
    "            bigram = line_[f:f+2]\n",
    "            bi_counts[bigram] += 1\n",
    "            \n",
    "    n = len(vocabulary)\n",
    "    for uni in vocabulary:\n",
    "        for bi in vocabulary:\n",
    "            state = uni + bi\n",
    "            distribution = []\n",
    "            letters = []\n",
    "            for tri in vocabulary:\n",
    "                prob = (tri_counts.get(str(state+tri),0) + alpha) / (bi_counts[state] + (n*alpha))\n",
    "                distribution.append(prob)\n",
    "                letters.append(tri)\n",
    "            model[state] = (letters, distribution)\n",
    "        \n",
    "    return model"
   ]
  },
  {
   "cell_type": "code",
   "execution_count": 3,
   "metadata": {},
   "outputs": [],
   "source": [
    "def generate_from_LM(model):\n",
    "    fullState = \"##\"\n",
    "    for j in range(1,300):\n",
    "        state = fullState[j-1] + fullState[j]\n",
    "        nextState = random.choices(model[state][0], model[state][1])\n",
    "        fullState += (nextState[0])\n",
    "    fullState = fullState[3:].replace(\"#\", \"\\n\")\n",
    "    return fullState"
   ]
  },
  {
   "cell_type": "code",
   "execution_count": null,
   "metadata": {},
   "outputs": [],
   "source": [
    "def printModel(model):\n",
    "    for state in sorted(model.keys()):\n",
    "        for i in range(len(model[state][0])):\n",
    "            print(state + model[state][0][i] + \"|\" + str(model[state][1][i]))\n",
    "        \n",
    "\n",
    "#0-2 Trigram\n",
    "#4-13 Probability\n",
    "def importModel(infile):\n",
    "    model = dict()\n",
    "    with open(infile) as f:\n",
    "        for line in f:\n",
    "            #[:2] = State\n",
    "            state = line[:2]\n",
    "            letter = line[2]\n",
    "            prob = float(line[4:14])\n",
    "            \n",
    "            if state in model:\n",
    "                model[state][0].append(letter)\n",
    "                model[state][1].append(prob)\n",
    "            else:\n",
    "                distribution = [prob]\n",
    "                letters = [letter]\n",
    "                model[state] = (letters, distribution)\n",
    "                \n",
    "    return model"
   ]
  },
  {
   "cell_type": "code",
   "execution_count": 4,
   "metadata": {},
   "outputs": [],
   "source": [
    "model = modelling('training.en', 0.1)\n",
    "#generate_from_LM(model)"
   ]
  },
  {
   "cell_type": "code",
   "execution_count": null,
   "metadata": {},
   "outputs": [],
   "source": [
    "printMo"
   ]
  }
 ],
 "metadata": {
  "kernelspec": {
   "display_name": "Python 3",
   "language": "python",
   "name": "python3"
  },
  "language_info": {
   "codemirror_mode": {
    "name": "ipython",
    "version": 3
   },
   "file_extension": ".py",
   "mimetype": "text/x-python",
   "name": "python",
   "nbconvert_exporter": "python",
   "pygments_lexer": "ipython3",
   "version": "3.8.5"
  }
 },
 "nbformat": 4,
 "nbformat_minor": 4
}
