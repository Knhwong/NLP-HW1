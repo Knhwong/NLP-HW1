{
 "cells": [
  {
   "cell_type": "code",
   "execution_count": 1,
   "metadata": {},
   "outputs": [],
   "source": [
    "from importlib.metadata import distribution\n",
    "import sys\n",
    "import math\n",
    "from collections import defaultdict\n",
    "import random\n",
    "\n",
    "validCharacters = set(\"1234567890abcdefghijklmnopqrstuvwxyz. \")\n",
    "vocabulary = \" #.0abcdefghijklmnopqrstuvwxyz\"\n",
    "#We convert set to string for O(1) lookup\n",
    "validCharacters = set(\"1234567890abcdefghijklmnopqrstuvwxyz. \")\n",
    "#Process each line and add start/ending symbols\n",
    "def preprocess_line(line):\n",
    "    #Add start-sentence symbol\n",
    "    valid = \"##\"\n",
    "    #Because each line ends with newline symbol, we simply delete them\n",
    "    line=line.replace(\"\\n\",\"\")\n",
    "    #.lower() automatically changes all capitals to lower.\n",
    "    for i in line.lower():\n",
    "        if i in validCharacters:\n",
    "            if i in set(\"1234567890\"):\n",
    "                valid += \"0\"\n",
    "            else:\n",
    "                valid += i\n",
    "    #add end-sentence symbol\n",
    "    valid+=\"#\"   \n",
    "    return valid\n"
   ]
  },
  {
   "cell_type": "code",
   "execution_count": 2,
   "metadata": {},
   "outputs": [],
   "source": [
    "#Add Alpha ESTIMATION as the Easiest\n",
    "#Need to deal with newLine and endLine\n",
    "def modelling(infile, alpha):\n",
    "    tri_counts= defaultdict(int)\n",
    "    bi_counts = defaultdict(int)\n",
    "    model = dict()\n",
    "    with open(infile) as f:\n",
    "        for line in f:\n",
    "            line_ = preprocess_line(line)\n",
    "            \n",
    "            for j in range(len(line_)-2):\n",
    "                trigram = line_[j:j+3]\n",
    "                tri_counts[trigram] += 1\n",
    "                \n",
    "                #Get Bigrams to Find Prob\n",
    "                bigram = line_[j:j+2]\n",
    "                bi_counts[bigram] += 1\n",
    "            \n",
    "            f = len(line_) - 3\n",
    "            bigram = line_[f:f+2]\n",
    "            bi_counts[bigram] += 1\n",
    "            \n",
    "    n = len(vocabulary)\n",
    "    tri_probs = dict()\n",
    "    for uni in vocabulary:\n",
    "        for bi in vocabulary:\n",
    "            state = uni + bi\n",
    "            distribution = []\n",
    "            letters = []\n",
    "            for tri in vocabulary:\n",
    "                prob = 0\n",
    "                if alpha > 0:\n",
    "                    prob = (tri_counts.get(str(state+tri),0) + alpha) / (bi_counts[state] + (n*alpha))\n",
    "                \n",
    "                tri_probs[uni+bi+tri] = prob\n",
    "                distribution.append(prob)\n",
    "                letters.append(tri)\n",
    "            model[state] = (letters, distribution)\n",
    "    return (model, tri_probs)"
   ]
  },
  {
   "cell_type": "code",
   "execution_count": 3,
   "metadata": {},
   "outputs": [],
   "source": [
    "def generate_from_LM(model):\n",
    "    fullState = \"##\"\n",
    "    for j in range(1,300):\n",
    "        state = fullState[j-1] + fullState[j]\n",
    "        nextState = random.choices(model[state][0], model[state][1])\n",
    "        fullState += (nextState[0])\n",
    "    fullState = fullState[3:].replace(\"#\", \"\\n\")\n",
    "    return fullState"
   ]
  },
  {
   "cell_type": "code",
   "execution_count": 4,
   "metadata": {},
   "outputs": [],
   "source": [
    "def printModel(model):\n",
    "    for state in sorted(model.keys()):\n",
    "        for i in range(len(model[state][0])):\n",
    "            print(state + model[state][0][i] + \"|\" + str(model[state][1][i]))\n",
    "        \n",
    "\n",
    "#0-2 Trigram\n",
    "#4-13 Probability\n",
    "def importModel(infile):\n",
    "    model = dict()\n",
    "    with open(infile) as f:\n",
    "        for line in f:\n",
    "            #[:2] = State\n",
    "            state = line[:2]\n",
    "            letter = line[2]\n",
    "            prob = float(line[4:14])\n",
    "            \n",
    "            if state in model:\n",
    "                model[state][0].append(letter)\n",
    "                model[state][1].append(prob)\n",
    "            else:\n",
    "                distribution = [prob]\n",
    "                letters = [letter]\n",
    "                model[state] = (letters, distribution)\n",
    "                \n",
    "    return model"
   ]
  },
  {
   "cell_type": "code",
   "execution_count": 5,
   "metadata": {},
   "outputs": [
    {
     "name": "stdout",
     "output_type": "stream",
     "text": [
      "ocies sidennecedute sentiall dutultred comminat weloymetwor we prounestrinconclempettakeed ing as thisses a eural as ased coup desed ing ther.\n",
      "unis commentively witived to derestand imat hareventioncertim on ther pose eir owese tomesecolike do thander bructionce you locited ready and the commeting\n"
     ]
    }
   ],
   "source": [
    "m = modelling('training.en', 0.01)\n",
    "model = m[0]\n",
    "tri_probs = m[1]\n",
    "print(generate_from_LM(model))"
   ]
  },
  {
   "cell_type": "code",
   "execution_count": 6,
   "metadata": {},
   "outputs": [],
   "source": [
    "def generatePerplexity(model, test):\n",
    "    Test = \"\"\n",
    "    with open(test) as f:\n",
    "        for line in f:\n",
    "            Test += preprocess_line(line)\n",
    "    entropy = 0\n",
    "    for i in range(2, len(Test)):\n",
    "        trigram = Test[i-2:i+1]\n",
    "        prob = model[trigram]\n",
    "        \n",
    "        entropy += (-prob * math.log(prob, 2))\n",
    "    print(entropy)\n",
    "    perplexity = pow(2, entropy)"
   ]
  },
  {
   "cell_type": "code",
   "execution_count": 7,
   "metadata": {},
   "outputs": [
    {
     "name": "stdout",
     "output_type": "stream",
     "text": [
      "4337.585295523345\n"
     ]
    },
    {
     "ename": "OverflowError",
     "evalue": "(34, 'Result too large')",
     "output_type": "error",
     "traceback": [
      "\u001b[1;31m---------------------------------------------------------------------------\u001b[0m",
      "\u001b[1;31mOverflowError\u001b[0m                             Traceback (most recent call last)",
      "\u001b[1;32m<ipython-input-7-1197fc7dd235>\u001b[0m in \u001b[0;36m<module>\u001b[1;34m\u001b[0m\n\u001b[1;32m----> 1\u001b[1;33m \u001b[0mgeneratePerplexity\u001b[0m\u001b[1;33m(\u001b[0m\u001b[0mtri_probs\u001b[0m\u001b[1;33m,\u001b[0m \u001b[1;34m'test'\u001b[0m\u001b[1;33m)\u001b[0m\u001b[1;33m\u001b[0m\u001b[1;33m\u001b[0m\u001b[0m\n\u001b[0m",
      "\u001b[1;32m<ipython-input-6-729ad10a5a1b>\u001b[0m in \u001b[0;36mgeneratePerplexity\u001b[1;34m(model, test)\u001b[0m\n\u001b[0;32m     11\u001b[0m         \u001b[0mentropy\u001b[0m \u001b[1;33m+=\u001b[0m \u001b[1;33m(\u001b[0m\u001b[1;33m-\u001b[0m\u001b[0mprob\u001b[0m \u001b[1;33m*\u001b[0m \u001b[0mmath\u001b[0m\u001b[1;33m.\u001b[0m\u001b[0mlog\u001b[0m\u001b[1;33m(\u001b[0m\u001b[0mprob\u001b[0m\u001b[1;33m,\u001b[0m \u001b[1;36m2\u001b[0m\u001b[1;33m)\u001b[0m\u001b[1;33m)\u001b[0m\u001b[1;33m\u001b[0m\u001b[1;33m\u001b[0m\u001b[0m\n\u001b[0;32m     12\u001b[0m     \u001b[0mprint\u001b[0m\u001b[1;33m(\u001b[0m\u001b[0mentropy\u001b[0m\u001b[1;33m)\u001b[0m\u001b[1;33m\u001b[0m\u001b[1;33m\u001b[0m\u001b[0m\n\u001b[1;32m---> 13\u001b[1;33m     \u001b[0mperplexity\u001b[0m \u001b[1;33m=\u001b[0m \u001b[0mpow\u001b[0m\u001b[1;33m(\u001b[0m\u001b[1;36m2\u001b[0m\u001b[1;33m,\u001b[0m \u001b[0mentropy\u001b[0m\u001b[1;33m)\u001b[0m\u001b[1;33m\u001b[0m\u001b[1;33m\u001b[0m\u001b[0m\n\u001b[0m",
      "\u001b[1;31mOverflowError\u001b[0m: (34, 'Result too large')"
     ]
    }
   ],
   "source": [
    "generatePerplexity(tri_probs, 'test')"
   ]
  },
  {
   "cell_type": "code",
   "execution_count": null,
   "metadata": {},
   "outputs": [],
   "source": []
  }
 ],
 "metadata": {
  "kernelspec": {
   "display_name": "Python 3",
   "language": "python",
   "name": "python3"
  },
  "language_info": {
   "codemirror_mode": {
    "name": "ipython",
    "version": 3
   },
   "file_extension": ".py",
   "mimetype": "text/x-python",
   "name": "python",
   "nbconvert_exporter": "python",
   "pygments_lexer": "ipython3",
   "version": "3.8.5"
  }
 },
 "nbformat": 4,
 "nbformat_minor": 4
}
