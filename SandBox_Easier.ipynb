{
 "cells": [
  {
   "cell_type": "code",
   "execution_count": 2,
   "metadata": {},
   "outputs": [],
   "source": [
    "from importlib.metadata import distribution\n",
    "import sys\n",
    "from collections import defaultdict\n",
    "import random\n",
    "\n",
    "validCharacters = set(\"1234567890abcdefghijklmnopqrstuvwxyz. \")\n",
    "def preprocess_line(line):\n",
    "    valid = \"##\"\n",
    "    #.lower() automatically changes all capitals to lower.\n",
    "    for i in line.lower():\n",
    "        if i in validCharacters:\n",
    "            if i in set(\"1234567890\"):\n",
    "                valid += \"0\"\n",
    "            else:\n",
    "                valid += i\n",
    "    valid += \"#\"\n",
    "    return valid"
   ]
  },
  {
   "cell_type": "code",
   "execution_count": null,
   "metadata": {},
   "outputs": [],
   "source": [
    "#Add Alpha ESTIMATION as the Easiest\n",
    "#Need to deal with newLine and endLine\n",
    "def modelling(infile, alpha):\n",
    "    tri_counts= defaultdict(int)\n",
    "    bi_counts = defaultdict(int)\n",
    "    model = dict()\n",
    "    with open(infile) as f:\n",
    "        for line in f:\n",
    "            line_ = preprocess_line(line)\n",
    "            \n",
    "            for j in range(len(line_)-2):\n",
    "                trigram = line_[j:j+3]\n",
    "                tri_counts[trigram] += 1\n",
    "                \n",
    "                #Get Bigrams to Find Prob\n",
    "                bigram = line_[j:j+2]\n",
    "                bi_counts[bigram] += 1\n",
    "            \n",
    "            f = len(line_) - 3\n",
    "            bigram = line_[f:f+2]\n",
    "            bi_counts[bigram] += 1\n",
    "\n",
    "    #If we consider a|bc, bi_counts contains all trigram counts of bc occuring.\n",
    "    #Switch to add alpha of 0.05\n",
    "    for state in bi_counts:\n",
    "        #build probability distribution\n",
    "        distribution = []\n",
    "        letter = []\n",
    "        for c in validCharacters:\n",
    "            #state+c is the trigram\n",
    "            prob = (tri_counts.get(str(state+c),0) + alpha) / (bi_counts[state] + (len(validCharacters)*alpha))\n",
    "            distribution.append(prob)\n",
    "            letter.append(c)\n",
    "        #Extra Operation for # eol\n",
    "        prob = (tri_counts.get(str(state+'#'),0) + alpha) / (bi_counts[state] + (len(validCharacters)*alpha))\n",
    "        distribution.append(prob)\n",
    "        letter.append(\"#\")\n",
    "            \n",
    "        #We seperate the two rather than using a tuple so we can easily weigh later on.\n",
    "        model[state] = (letter, distribution)\n",
    "\n",
    "    return model"
   ]
  },
  {
   "cell_type": "code",
   "execution_count": null,
   "metadata": {},
   "outputs": [],
   "source": [
    "def generate_from_LM(model):\n",
    "    fullState = [\"#\",\"#\"]\n",
    "    for j in range(1,300):\n",
    "        state = fullState[j] + fullState[j-1]\n",
    "        nextState = random.choices(model[state][0], model[state][1])\n",
    "        fullState.append(nextState)\n",
    "    print(str(fullState))\n",
    "    return\n",
    " \n",
    "def printModel(model):\n",
    "    for state in sorted(model.keys()):\n",
    "        for i in range(len(validCharacters)):\n",
    "            print(state + model[state][0][i] + \"|\" + str(model[state][1][i]))\n",
    "        \n",
    "        #print(\"(\" + str(trigram[2]) + \"|\" + str(trigram[:2]) + \"):\" + str(model[trigram]))"
   ]
  },
  {
   "cell_type": "code",
   "execution_count": null,
   "metadata": {},
   "outputs": [],
   "source": [
    "model = modelling('training.en', 0.1)\n",
    "printModel(model)\n",
    "#generate_from_LM(model)"
   ]
  }
 ],
 "metadata": {
  "kernelspec": {
   "display_name": "Python 3",
   "language": "python",
   "name": "python3"
  },
  "language_info": {
   "codemirror_mode": {
    "name": "ipython",
    "version": 3
   },
   "file_extension": ".py",
   "mimetype": "text/x-python",
   "name": "python",
   "nbconvert_exporter": "python",
   "pygments_lexer": "ipython3",
   "version": "3.8.5"
  }
 },
 "nbformat": 4,
 "nbformat_minor": 4
}
